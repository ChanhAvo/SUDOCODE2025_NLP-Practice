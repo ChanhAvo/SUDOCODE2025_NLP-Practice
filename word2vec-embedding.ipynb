{
 "cells": [
  {
   "cell_type": "code",
   "execution_count": 2,
   "metadata": {
    "execution": {
     "iopub.execute_input": "2025-09-19T07:55:54.911459Z",
     "iopub.status.busy": "2025-09-19T07:55:54.911061Z",
     "iopub.status.idle": "2025-09-19T07:56:12.871236Z",
     "shell.execute_reply": "2025-09-19T07:56:12.870071Z",
     "shell.execute_reply.started": "2025-09-19T07:55:54.911415Z"
    },
    "trusted": true
   },
   "outputs": [
    {
     "name": "stdout",
     "output_type": "stream",
     "text": [
      "Requirement already satisfied: underthesea in /usr/local/lib/python3.11/dist-packages (6.8.4)\n",
      "Requirement already satisfied: Click>=6.0 in /usr/local/lib/python3.11/dist-packages (from underthesea) (8.2.1)\n",
      "Requirement already satisfied: python-crfsuite>=0.9.6 in /usr/local/lib/python3.11/dist-packages (from underthesea) (0.9.11)\n",
      "Requirement already satisfied: nltk in /usr/local/lib/python3.11/dist-packages (from underthesea) (3.9.1)\n",
      "Requirement already satisfied: tqdm in /usr/local/lib/python3.11/dist-packages (from underthesea) (4.67.1)\n",
      "Requirement already satisfied: requests in /usr/local/lib/python3.11/dist-packages (from underthesea) (2.32.4)\n",
      "Requirement already satisfied: joblib in /usr/local/lib/python3.11/dist-packages (from underthesea) (1.5.1)\n",
      "Requirement already satisfied: scikit-learn in /usr/local/lib/python3.11/dist-packages (from underthesea) (1.2.2)\n",
      "Requirement already satisfied: PyYAML in /usr/local/lib/python3.11/dist-packages (from underthesea) (6.0.2)\n",
      "Requirement already satisfied: underthesea-core==1.0.4 in /usr/local/lib/python3.11/dist-packages (from underthesea) (1.0.4)\n",
      "Requirement already satisfied: regex>=2021.8.3 in /usr/local/lib/python3.11/dist-packages (from nltk->underthesea) (2024.11.6)\n",
      "Requirement already satisfied: charset_normalizer<4,>=2 in /usr/local/lib/python3.11/dist-packages (from requests->underthesea) (3.4.2)\n",
      "Requirement already satisfied: idna<4,>=2.5 in /usr/local/lib/python3.11/dist-packages (from requests->underthesea) (3.10)\n",
      "Requirement already satisfied: urllib3<3,>=1.21.1 in /usr/local/lib/python3.11/dist-packages (from requests->underthesea) (2.5.0)\n",
      "Requirement already satisfied: certifi>=2017.4.17 in /usr/local/lib/python3.11/dist-packages (from requests->underthesea) (2025.6.15)\n",
      "Requirement already satisfied: numpy>=1.17.3 in /usr/local/lib/python3.11/dist-packages (from scikit-learn->underthesea) (1.26.4)\n",
      "Requirement already satisfied: scipy>=1.3.2 in /usr/local/lib/python3.11/dist-packages (from scikit-learn->underthesea) (1.13.1)\n",
      "Requirement already satisfied: threadpoolctl>=2.0.0 in /usr/local/lib/python3.11/dist-packages (from scikit-learn->underthesea) (3.6.0)\n",
      "Requirement already satisfied: mkl_fft in /usr/local/lib/python3.11/dist-packages (from numpy>=1.17.3->scikit-learn->underthesea) (1.3.8)\n",
      "Requirement already satisfied: mkl_random in /usr/local/lib/python3.11/dist-packages (from numpy>=1.17.3->scikit-learn->underthesea) (1.2.4)\n",
      "Requirement already satisfied: mkl_umath in /usr/local/lib/python3.11/dist-packages (from numpy>=1.17.3->scikit-learn->underthesea) (0.1.1)\n",
      "Requirement already satisfied: mkl in /usr/local/lib/python3.11/dist-packages (from numpy>=1.17.3->scikit-learn->underthesea) (2025.2.0)\n",
      "Requirement already satisfied: tbb4py in /usr/local/lib/python3.11/dist-packages (from numpy>=1.17.3->scikit-learn->underthesea) (2022.2.0)\n",
      "Requirement already satisfied: mkl-service in /usr/local/lib/python3.11/dist-packages (from numpy>=1.17.3->scikit-learn->underthesea) (2.4.1)\n",
      "Requirement already satisfied: intel-openmp<2026,>=2024 in /usr/local/lib/python3.11/dist-packages (from mkl->numpy>=1.17.3->scikit-learn->underthesea) (2024.2.0)\n",
      "Requirement already satisfied: tbb==2022.* in /usr/local/lib/python3.11/dist-packages (from mkl->numpy>=1.17.3->scikit-learn->underthesea) (2022.2.0)\n",
      "Requirement already satisfied: tcmlib==1.* in /usr/local/lib/python3.11/dist-packages (from tbb==2022.*->mkl->numpy>=1.17.3->scikit-learn->underthesea) (1.4.0)\n",
      "Requirement already satisfied: intel-cmplr-lib-rt in /usr/local/lib/python3.11/dist-packages (from mkl_umath->numpy>=1.17.3->scikit-learn->underthesea) (2024.2.0)\n",
      "Requirement already satisfied: intel-cmplr-lib-ur==2024.2.0 in /usr/local/lib/python3.11/dist-packages (from intel-openmp<2026,>=2024->mkl->numpy>=1.17.3->scikit-learn->underthesea) (2024.2.0)\n",
      "Requirement already satisfied: nltk in /usr/local/lib/python3.11/dist-packages (3.9.1)\n",
      "Requirement already satisfied: click in /usr/local/lib/python3.11/dist-packages (from nltk) (8.2.1)\n",
      "Requirement already satisfied: joblib in /usr/local/lib/python3.11/dist-packages (from nltk) (1.5.1)\n",
      "Requirement already satisfied: regex>=2021.8.3 in /usr/local/lib/python3.11/dist-packages (from nltk) (2024.11.6)\n",
      "Requirement already satisfied: tqdm in /usr/local/lib/python3.11/dist-packages (from nltk) (4.67.1)\n",
      "Requirement already satisfied: pyvi in /usr/local/lib/python3.11/dist-packages (0.1.1)\n",
      "Requirement already satisfied: scikit-learn in /usr/local/lib/python3.11/dist-packages (from pyvi) (1.2.2)\n",
      "Requirement already satisfied: sklearn-crfsuite in /usr/local/lib/python3.11/dist-packages (from pyvi) (0.5.0)\n",
      "Requirement already satisfied: numpy>=1.17.3 in /usr/local/lib/python3.11/dist-packages (from scikit-learn->pyvi) (1.26.4)\n",
      "Requirement already satisfied: scipy>=1.3.2 in /usr/local/lib/python3.11/dist-packages (from scikit-learn->pyvi) (1.13.1)\n",
      "Requirement already satisfied: joblib>=1.1.1 in /usr/local/lib/python3.11/dist-packages (from scikit-learn->pyvi) (1.5.1)\n",
      "Requirement already satisfied: threadpoolctl>=2.0.0 in /usr/local/lib/python3.11/dist-packages (from scikit-learn->pyvi) (3.6.0)\n",
      "Requirement already satisfied: python-crfsuite>=0.9.7 in /usr/local/lib/python3.11/dist-packages (from sklearn-crfsuite->pyvi) (0.9.11)\n",
      "Requirement already satisfied: tabulate>=0.4.2 in /usr/local/lib/python3.11/dist-packages (from sklearn-crfsuite->pyvi) (0.9.0)\n",
      "Requirement already satisfied: tqdm>=2.0 in /usr/local/lib/python3.11/dist-packages (from sklearn-crfsuite->pyvi) (4.67.1)\n",
      "Requirement already satisfied: mkl_fft in /usr/local/lib/python3.11/dist-packages (from numpy>=1.17.3->scikit-learn->pyvi) (1.3.8)\n",
      "Requirement already satisfied: mkl_random in /usr/local/lib/python3.11/dist-packages (from numpy>=1.17.3->scikit-learn->pyvi) (1.2.4)\n",
      "Requirement already satisfied: mkl_umath in /usr/local/lib/python3.11/dist-packages (from numpy>=1.17.3->scikit-learn->pyvi) (0.1.1)\n",
      "Requirement already satisfied: mkl in /usr/local/lib/python3.11/dist-packages (from numpy>=1.17.3->scikit-learn->pyvi) (2025.2.0)\n",
      "Requirement already satisfied: tbb4py in /usr/local/lib/python3.11/dist-packages (from numpy>=1.17.3->scikit-learn->pyvi) (2022.2.0)\n",
      "Requirement already satisfied: mkl-service in /usr/local/lib/python3.11/dist-packages (from numpy>=1.17.3->scikit-learn->pyvi) (2.4.1)\n",
      "Requirement already satisfied: intel-openmp<2026,>=2024 in /usr/local/lib/python3.11/dist-packages (from mkl->numpy>=1.17.3->scikit-learn->pyvi) (2024.2.0)\n",
      "Requirement already satisfied: tbb==2022.* in /usr/local/lib/python3.11/dist-packages (from mkl->numpy>=1.17.3->scikit-learn->pyvi) (2022.2.0)\n",
      "Requirement already satisfied: tcmlib==1.* in /usr/local/lib/python3.11/dist-packages (from tbb==2022.*->mkl->numpy>=1.17.3->scikit-learn->pyvi) (1.4.0)\n",
      "Requirement already satisfied: intel-cmplr-lib-rt in /usr/local/lib/python3.11/dist-packages (from mkl_umath->numpy>=1.17.3->scikit-learn->pyvi) (2024.2.0)\n",
      "Requirement already satisfied: intel-cmplr-lib-ur==2024.2.0 in /usr/local/lib/python3.11/dist-packages (from intel-openmp<2026,>=2024->mkl->numpy>=1.17.3->scikit-learn->pyvi) (2024.2.0)\n",
      "Requirement already satisfied: gensim in /usr/local/lib/python3.11/dist-packages (4.3.3)\n",
      "Requirement already satisfied: numpy<2.0,>=1.18.5 in /usr/local/lib/python3.11/dist-packages (from gensim) (1.26.4)\n",
      "Requirement already satisfied: scipy<1.14.0,>=1.7.0 in /usr/local/lib/python3.11/dist-packages (from gensim) (1.13.1)\n",
      "Requirement already satisfied: smart-open>=1.8.1 in /usr/local/lib/python3.11/dist-packages (from gensim) (7.1.0)\n",
      "Requirement already satisfied: mkl_fft in /usr/local/lib/python3.11/dist-packages (from numpy<2.0,>=1.18.5->gensim) (1.3.8)\n",
      "Requirement already satisfied: mkl_random in /usr/local/lib/python3.11/dist-packages (from numpy<2.0,>=1.18.5->gensim) (1.2.4)\n",
      "Requirement already satisfied: mkl_umath in /usr/local/lib/python3.11/dist-packages (from numpy<2.0,>=1.18.5->gensim) (0.1.1)\n",
      "Requirement already satisfied: mkl in /usr/local/lib/python3.11/dist-packages (from numpy<2.0,>=1.18.5->gensim) (2025.2.0)\n",
      "Requirement already satisfied: tbb4py in /usr/local/lib/python3.11/dist-packages (from numpy<2.0,>=1.18.5->gensim) (2022.2.0)\n",
      "Requirement already satisfied: mkl-service in /usr/local/lib/python3.11/dist-packages (from numpy<2.0,>=1.18.5->gensim) (2.4.1)\n",
      "Requirement already satisfied: wrapt in /usr/local/lib/python3.11/dist-packages (from smart-open>=1.8.1->gensim) (1.17.2)\n",
      "Requirement already satisfied: intel-openmp<2026,>=2024 in /usr/local/lib/python3.11/dist-packages (from mkl->numpy<2.0,>=1.18.5->gensim) (2024.2.0)\n",
      "Requirement already satisfied: tbb==2022.* in /usr/local/lib/python3.11/dist-packages (from mkl->numpy<2.0,>=1.18.5->gensim) (2022.2.0)\n",
      "Requirement already satisfied: tcmlib==1.* in /usr/local/lib/python3.11/dist-packages (from tbb==2022.*->mkl->numpy<2.0,>=1.18.5->gensim) (1.4.0)\n",
      "Requirement already satisfied: intel-cmplr-lib-rt in /usr/local/lib/python3.11/dist-packages (from mkl_umath->numpy<2.0,>=1.18.5->gensim) (2024.2.0)\n",
      "Requirement already satisfied: intel-cmplr-lib-ur==2024.2.0 in /usr/local/lib/python3.11/dist-packages (from intel-openmp<2026,>=2024->mkl->numpy<2.0,>=1.18.5->gensim) (2024.2.0)\n"
     ]
    }
   ],
   "source": [
    "!pip install underthesea \n",
    "!pip install nltk \n",
    "!pip install pyvi\n",
    "!pip install gensim"
   ]
  },
  {
   "cell_type": "code",
   "execution_count": 3,
   "metadata": {
    "execution": {
     "iopub.execute_input": "2025-09-19T07:57:05.131015Z",
     "iopub.status.busy": "2025-09-19T07:57:05.130664Z",
     "iopub.status.idle": "2025-09-19T07:57:46.202007Z",
     "shell.execute_reply": "2025-09-19T07:57:46.200700Z",
     "shell.execute_reply.started": "2025-09-19T07:57:05.130984Z"
    },
    "trusted": true
   },
   "outputs": [
    {
     "name": "stdout",
     "output_type": "stream",
     "text": [
      "Cloning into 'viwik18'...\n",
      "remote: Enumerating objects: 161, done.\u001b[K\n",
      "remote: Total 161 (delta 0), reused 0 (delta 0), pack-reused 161 (from 1)\u001b[K\n",
      "Receiving objects: 100% (161/161), 453.04 MiB | 15.46 MiB/s, done.\n",
      "Resolving deltas: 100% (29/29), done.\n",
      "Updating files: 100% (13/13), done.\n"
     ]
    }
   ],
   "source": [
    "!git clone https://github.com/NTT123/viwik18.git"
   ]
  },
  {
   "cell_type": "code",
   "execution_count": 4,
   "metadata": {
    "execution": {
     "iopub.execute_input": "2025-09-19T07:59:55.032872Z",
     "iopub.status.busy": "2025-09-19T07:59:55.032278Z",
     "iopub.status.idle": "2025-09-19T07:59:56.054264Z",
     "shell.execute_reply": "2025-09-19T07:59:56.052843Z",
     "shell.execute_reply.started": "2025-09-19T07:59:55.032832Z"
    },
    "trusted": true
   },
   "outputs": [],
   "source": [
    "!cat viwik18/dataset/viwik18_* > viwik18.txt"
   ]
  },
  {
   "cell_type": "code",
   "execution_count": 34,
   "metadata": {
    "execution": {
     "iopub.execute_input": "2025-09-19T08:50:34.972309Z",
     "iopub.status.busy": "2025-09-19T08:50:34.971428Z",
     "iopub.status.idle": "2025-09-19T08:50:35.266988Z",
     "shell.execute_reply": "2025-09-19T08:50:35.265706Z",
     "shell.execute_reply.started": "2025-09-19T08:50:34.972263Z"
    },
    "trusted": true
   },
   "outputs": [],
   "source": [
    "import nltk\n",
    "import pandas as pd\n",
    "import numpy as np\n",
    "import re\n",
    "import string\n",
    "import matplotlib.pyplot as plt\n",
    "import seaborn as sns\n",
    "from underthesea import word_tokenize\n",
    "from underthesea import sent_tokenize\n",
    "from nltk.util import ngrams\n",
    "from gensim.models import Word2Vec\n",
    "import gensim\n",
    "from sklearn.decomposition import PCA\n",
    "from sklearn.manifold import TSNE"
   ]
  },
  {
   "cell_type": "code",
   "execution_count": 6,
   "metadata": {
    "execution": {
     "iopub.execute_input": "2025-09-19T08:02:40.811095Z",
     "iopub.status.busy": "2025-09-19T08:02:40.810449Z",
     "iopub.status.idle": "2025-09-19T08:02:49.671303Z",
     "shell.execute_reply": "2025-09-19T08:02:49.670148Z",
     "shell.execute_reply.started": "2025-09-19T08:02:40.811066Z"
    },
    "trusted": true
   },
   "outputs": [],
   "source": [
    "with open(\"viwik18.txt\", \"r\", encoding=\"utf-8\") as f:\n",
    "    text = f.read()"
   ]
  },
  {
   "cell_type": "code",
   "execution_count": 7,
   "metadata": {
    "execution": {
     "iopub.execute_input": "2025-09-19T08:05:05.276345Z",
     "iopub.status.busy": "2025-09-19T08:05:05.275925Z",
     "iopub.status.idle": "2025-09-19T08:05:05.284481Z",
     "shell.execute_reply": "2025-09-19T08:05:05.283397Z",
     "shell.execute_reply.started": "2025-09-19T08:05:05.276319Z"
    },
    "trusted": true
   },
   "outputs": [
    {
     "data": {
      "text/plain": [
       "'trang chính  internet society  internet society hay isoc là một tổ chức quốc tế hoạt động phi lợi nhuận phi chính phủ và bao gồm các thành viên có trình độ chuyên ngành tổ chức này chú trọng đến tiêu chuẩn giáo dục và các vấn đề về chính sách với trên một bốn năm tổ chức thành viên và sáu năm không không không thành viên cá nhân isoc bao gồm những con người cụ thể trong cộng đồng internet mọi chi tiết có thể tìm thấy tại website của isoc   internet society nằm ở gần thủ đô washington dc hoa kỳ và geneva thụy sĩ số hội viên của nó bao gồm hơn một bốn năm tổ chức thành viên và hơn sáu năm không không không cá nhân thành viên còn có thể tự lập một chi nhánh của tổ chức tùy theo vị trí hoặc sở thích hiện nay tổ chức có tới chín không chi nhánh trên toàn thế giới   nhiệm vụ và mục đích hoạt động  bảo đảm cổ vũ cho sự phát triển mở rộng và sử dụng internet được thuận lợi nhất cho mọi người trên toàn thế giới   xem thêm   lịch sử internet  liên kết ngoài   isoc việt nam  trang chủ toàn cầu  i'"
      ]
     },
     "execution_count": 7,
     "metadata": {},
     "output_type": "execute_result"
    }
   ],
   "source": [
    "text[:1000]"
   ]
  },
  {
   "cell_type": "markdown",
   "metadata": {},
   "source": [
    "# **1. Text Preprocessing**"
   ]
  },
  {
   "cell_type": "code",
   "execution_count": 8,
   "metadata": {
    "execution": {
     "iopub.execute_input": "2025-09-19T08:05:09.839380Z",
     "iopub.status.busy": "2025-09-19T08:05:09.838357Z",
     "iopub.status.idle": "2025-09-19T08:05:37.019480Z",
     "shell.execute_reply": "2025-09-19T08:05:37.017792Z",
     "shell.execute_reply.started": "2025-09-19T08:05:09.839336Z"
    },
    "trusted": true
   },
   "outputs": [
    {
     "name": "stdout",
     "output_type": "stream",
     "text": [
      "The average word count is:150300503.0\n"
     ]
    }
   ],
   "source": [
    "#Average word count \n",
    "word_count = len(text.split())\n",
    "avg = np.mean(word_count)\n",
    "print(f\"The average word count is:{avg}\")"
   ]
  },
  {
   "cell_type": "code",
   "execution_count": 9,
   "metadata": {
    "execution": {
     "iopub.execute_input": "2025-09-19T08:05:37.022809Z",
     "iopub.status.busy": "2025-09-19T08:05:37.022354Z",
     "iopub.status.idle": "2025-09-19T08:05:37.884089Z",
     "shell.execute_reply": "2025-09-19T08:05:37.882505Z",
     "shell.execute_reply.started": "2025-09-19T08:05:37.022773Z"
    },
    "trusted": true
   },
   "outputs": [
    {
     "name": "stdout",
     "output_type": "stream",
     "text": [
      "False\n"
     ]
    }
   ],
   "source": [
    "#Check for tag patterns \n",
    "pattern = re.search(r\"<[^>]+>\", text)\n",
    "print(bool(pattern))"
   ]
  },
  {
   "cell_type": "code",
   "execution_count": 10,
   "metadata": {
    "execution": {
     "iopub.execute_input": "2025-09-19T08:05:47.976024Z",
     "iopub.status.busy": "2025-09-19T08:05:47.974373Z",
     "iopub.status.idle": "2025-09-19T08:06:00.782664Z",
     "shell.execute_reply": "2025-09-19T08:06:00.781343Z",
     "shell.execute_reply.started": "2025-09-19T08:05:47.975989Z"
    },
    "trusted": true
   },
   "outputs": [],
   "source": [
    "#Remove URL \n",
    "text = re.sub(r\"http\\S+|https\\S+|www\\S+\", \"\", text)"
   ]
  },
  {
   "cell_type": "code",
   "execution_count": 11,
   "metadata": {
    "execution": {
     "iopub.execute_input": "2025-09-19T08:06:02.937075Z",
     "iopub.status.busy": "2025-09-19T08:06:02.936725Z",
     "iopub.status.idle": "2025-09-19T08:07:24.425059Z",
     "shell.execute_reply": "2025-09-19T08:07:24.423900Z",
     "shell.execute_reply.started": "2025-09-19T08:06:02.937050Z"
    },
    "trusted": true
   },
   "outputs": [],
   "source": [
    "#Clean whitespace \n",
    "text = re.sub(r\"\\s+\", \" \",text).strip()"
   ]
  },
  {
   "cell_type": "code",
   "execution_count": 12,
   "metadata": {
    "execution": {
     "iopub.execute_input": "2025-09-19T08:07:59.314468Z",
     "iopub.status.busy": "2025-09-19T08:07:59.314068Z",
     "iopub.status.idle": "2025-09-19T08:08:09.764650Z",
     "shell.execute_reply": "2025-09-19T08:08:09.763209Z",
     "shell.execute_reply.started": "2025-09-19T08:07:59.314426Z"
    },
    "trusted": true
   },
   "outputs": [],
   "source": [
    "#Lowercase\n",
    "text = text.lower()"
   ]
  },
  {
   "cell_type": "code",
   "execution_count": 13,
   "metadata": {
    "execution": {
     "iopub.execute_input": "2025-09-19T08:08:22.154696Z",
     "iopub.status.busy": "2025-09-19T08:08:22.154306Z",
     "iopub.status.idle": "2025-09-19T08:08:22.645864Z",
     "shell.execute_reply": "2025-09-19T08:08:22.644293Z",
     "shell.execute_reply.started": "2025-09-19T08:08:22.154671Z"
    },
    "trusted": true
   },
   "outputs": [],
   "source": [
    "#Tokenize the first 10000 words \n",
    "corpus = text[:10000]\n",
    "tokens = []\n",
    "for i in sent_tokenize(corpus):\n",
    "    temp = []\n",
    "    for j in word_tokenize(i):\n",
    "        temp.append(j) \n",
    "    tokens.append(temp)"
   ]
  },
  {
   "cell_type": "code",
   "execution_count": 16,
   "metadata": {
    "execution": {
     "iopub.execute_input": "2025-09-19T08:15:25.737479Z",
     "iopub.status.busy": "2025-09-19T08:15:25.737043Z",
     "iopub.status.idle": "2025-09-19T08:15:25.744053Z",
     "shell.execute_reply": "2025-09-19T08:15:25.742930Z",
     "shell.execute_reply.started": "2025-09-19T08:15:25.737452Z"
    },
    "trusted": true
   },
   "outputs": [],
   "source": [
    "#Remove punctuation\n",
    "tokens = [[t for t in sent if t.isalpha()] for sent in tokens]"
   ]
  },
  {
   "cell_type": "code",
   "execution_count": 18,
   "metadata": {
    "execution": {
     "iopub.execute_input": "2025-09-19T08:18:13.013884Z",
     "iopub.status.busy": "2025-09-19T08:18:13.013279Z",
     "iopub.status.idle": "2025-09-19T08:18:13.023916Z",
     "shell.execute_reply": "2025-09-19T08:18:13.022643Z",
     "shell.execute_reply.started": "2025-09-19T08:18:13.013843Z"
    },
    "trusted": true
   },
   "outputs": [],
   "source": [
    "#Remove stopwords \n",
    "with open(\"/kaggle/input/stop-words-in-28-languages/vietnamese.txt\", \"r\", encoding=\"utf-8\") as f:\n",
    "    stopwords = [stopwords.strip() for stopwords in f]\n",
    "\n",
    "stopwords = set(stopwords)\n",
    "cleaned = [[w for w in sent if w not in stopwords]for sent in tokens]"
   ]
  },
  {
   "cell_type": "markdown",
   "metadata": {},
   "source": [
    "# **2. Word2Vec Embedding**"
   ]
  },
  {
   "cell_type": "markdown",
   "metadata": {},
   "source": [
    "**a. Using CBoW**"
   ]
  },
  {
   "cell_type": "code",
   "execution_count": 23,
   "metadata": {
    "execution": {
     "iopub.execute_input": "2025-09-19T08:30:48.702756Z",
     "iopub.status.busy": "2025-09-19T08:30:48.702238Z",
     "iopub.status.idle": "2025-09-19T08:30:48.709007Z",
     "shell.execute_reply": "2025-09-19T08:30:48.707746Z",
     "shell.execute_reply.started": "2025-09-19T08:30:48.702726Z"
    },
    "trusted": true
   },
   "outputs": [],
   "source": [
    "#Set up \n",
    "min_count = 1\n",
    "vector_size = 100\n",
    "context_size = 5\n",
    "seed = 42 "
   ]
  },
  {
   "cell_type": "code",
   "execution_count": 25,
   "metadata": {
    "execution": {
     "iopub.execute_input": "2025-09-19T08:31:12.656722Z",
     "iopub.status.busy": "2025-09-19T08:31:12.656374Z",
     "iopub.status.idle": "2025-09-19T08:31:12.685126Z",
     "shell.execute_reply": "2025-09-19T08:31:12.683049Z",
     "shell.execute_reply.started": "2025-09-19T08:31:12.656701Z"
    },
    "trusted": true
   },
   "outputs": [
    {
     "name": "stdout",
     "output_type": "stream",
     "text": [
      "(153, 100)\n",
      "100\n"
     ]
    }
   ],
   "source": [
    "#Build the model \n",
    "cbow = gensim.models.word2vec.Word2Vec(\n",
    "    min_count=min_count,\n",
    "    vector_size=vector_size,\n",
    "    window=context_size,\n",
    "    seed=seed)\n",
    "#Build the vocabulary\n",
    "cbow.build_vocab(corpus_iterable=cleaned)\n",
    "#Train the model \n",
    "cbow.train(corpus_iterable=cleaned,\n",
    "          total_examples=len(cleaned),\n",
    "          epochs=cbow.epochs)\n",
    "print(cbow.wv.vectors.shape)\n",
    "print(cbow.vector_size)"
   ]
  },
  {
   "cell_type": "markdown",
   "metadata": {},
   "source": [
    "**b. Using skip-gram**"
   ]
  },
  {
   "cell_type": "code",
   "execution_count": 27,
   "metadata": {
    "execution": {
     "iopub.execute_input": "2025-09-19T08:36:21.476966Z",
     "iopub.status.busy": "2025-09-19T08:36:21.476451Z",
     "iopub.status.idle": "2025-09-19T08:36:21.512808Z",
     "shell.execute_reply": "2025-09-19T08:36:21.511229Z",
     "shell.execute_reply.started": "2025-09-19T08:36:21.476938Z"
    },
    "trusted": true
   },
   "outputs": [
    {
     "name": "stdout",
     "output_type": "stream",
     "text": [
      "(153, 100)\n",
      "100\n"
     ]
    }
   ],
   "source": [
    "skipgram = gensim.models.word2vec.Word2Vec(\n",
    "    min_count=min_count, \n",
    "    vector_size=vector_size, \n",
    "    window=context_size, \n",
    "    seed=seed\n",
    ")\n",
    "#Build the vocabulary\n",
    "skipgram.build_vocab(corpus_iterable=cleaned)\n",
    "#Train the model \n",
    "skipgram.train(corpus_iterable=cleaned,\n",
    "              total_examples=len(cleaned),\n",
    "              epochs=skipgram.epochs)\n",
    "print(skipgram.wv.vectors.shape)\n",
    "print(skipgram.vector_size)"
   ]
  },
  {
   "cell_type": "code",
   "execution_count": 32,
   "metadata": {
    "execution": {
     "iopub.execute_input": "2025-09-19T08:42:17.030405Z",
     "iopub.status.busy": "2025-09-19T08:42:17.029991Z",
     "iopub.status.idle": "2025-09-19T08:42:17.038614Z",
     "shell.execute_reply": "2025-09-19T08:42:17.037716Z",
     "shell.execute_reply.started": "2025-09-19T08:42:17.030380Z"
    },
    "trusted": true
   },
   "outputs": [
    {
     "name": "stdout",
     "output_type": "stream",
     "text": [
      "CBoW similar to \"internet\":\n",
      "[('viết', 0.3345079720020294), ('hai', 0.23672033846378326), ('xii', 0.21625153720378876), ('chuẩn', 0.21394145488739014), ('mùa', 0.20823997259140015), ('cử', 0.2053958922624588), ('tiền', 0.2017892450094223), ('internationale', 0.20005536079406738), ('task', 0.19031672179698944), ('đầu', 0.18092425167560577)]\n",
      "\n",
      "Skip-gram similar to \"internet\":\n",
      "[('viết', 0.3345079720020294), ('hai', 0.23672033846378326), ('xii', 0.21625153720378876), ('chuẩn', 0.21394145488739014), ('mùa', 0.20823997259140015), ('cử', 0.2053958922624588), ('tiền', 0.2017892450094223), ('internationale', 0.20005536079406738), ('task', 0.19031672179698944), ('đầu', 0.18092425167560577)]\n"
     ]
    }
   ],
   "source": [
    "#Check similarity for the same query word \n",
    "print('CBoW similar to \"internet\":')\n",
    "print(cbow.wv.most_similar(\"internet\", topn=10))\n",
    "\n",
    "print('\\nSkip-gram similar to \"internet\":')\n",
    "print(skipgram.wv.most_similar(\"internet\", topn=10))"
   ]
  },
  {
   "cell_type": "code",
   "execution_count": 33,
   "metadata": {
    "execution": {
     "iopub.execute_input": "2025-09-19T08:44:57.748954Z",
     "iopub.status.busy": "2025-09-19T08:44:57.748475Z",
     "iopub.status.idle": "2025-09-19T08:44:57.759098Z",
     "shell.execute_reply": "2025-09-19T08:44:57.757892Z",
     "shell.execute_reply.started": "2025-09-19T08:44:57.748924Z"
    },
    "trusted": true
   },
   "outputs": [
    {
     "name": "stdout",
     "output_type": "stream",
     "text": [
      "Cosine similarity between CBOW & Skip-gram 'internet': 0.99999994\n"
     ]
    }
   ],
   "source": [
    "#Cosine Similarity\n",
    "from sklearn.metrics.pairwise import cosine_similarity\n",
    "\n",
    "# Compare embeddings for the same word\n",
    "cos_cbow = cbow.wv[\"internet\"]\n",
    "cos_skip = skipgram.wv[\"internet\"]\n",
    "\n",
    "print(\"Cosine similarity between CBOW & Skip-gram 'internet':\",\n",
    "      cosine_similarity([cos_cbow], [cos_skip])[0][0])"
   ]
  },
  {
   "cell_type": "markdown",
   "metadata": {},
   "source": [
    "Since the corpus size is rather small (<10000 words) and both models are initialized with a fixed seed, the results obtained by CBoW and Skip-gram models are fairly identical. "
   ]
  },
  {
   "cell_type": "code",
   "execution_count": null,
   "metadata": {
    "trusted": true
   },
   "outputs": [],
   "source": [
    "#Visualize using PCA\n",
    "def plot_embeddings(model, title):\n",
    "    X = model.wv.vectors\n",
    "    words = list(model.wv.index_to_key)\n",
    "\n",
    "    # Reduce to 2D\n",
    "    pca = PCA(n_components=2)\n",
    "    X_reduced = pca.fit_transform(X)\n",
    "\n",
    "    # Plot\n",
    "    plt.figure(figsize=(10, 6))\n",
    "    plt.scatter(X_reduced[:, 0], X_reduced[:, 1], alpha=0.5)\n",
    "\n",
    "    for i, word in enumerate(words[:50]):  # only show first 50 words\n",
    "        plt.annotate(word, (X_reduced[i, 0], X_reduced[i, 1]))\n",
    "\n",
    "    plt.title(title)\n",
    "    plt.show()\n",
    "\n",
    "plot_embeddings(cbow, \"CBOW Embeddings (PCA)\")\n",
    "plot_embeddings(skipgram, \"Skip-gram Embeddings (PCA)\")"
   ]
  },
  {
   "cell_type": "code",
   "execution_count": null,
   "metadata": {
    "trusted": true
   },
   "outputs": [],
   "source": []
  },
  {
   "cell_type": "code",
   "execution_count": null,
   "metadata": {
    "trusted": true
   },
   "outputs": [],
   "source": []
  },
  {
   "cell_type": "code",
   "execution_count": null,
   "metadata": {
    "trusted": true
   },
   "outputs": [],
   "source": []
  },
  {
   "cell_type": "code",
   "execution_count": null,
   "metadata": {
    "trusted": true
   },
   "outputs": [],
   "source": []
  },
  {
   "cell_type": "code",
   "execution_count": null,
   "metadata": {
    "trusted": true
   },
   "outputs": [],
   "source": []
  },
  {
   "cell_type": "code",
   "execution_count": null,
   "metadata": {
    "trusted": true
   },
   "outputs": [],
   "source": []
  }
 ],
 "metadata": {
  "kaggle": {
   "accelerator": "none",
   "dataSources": [
    {
     "datasetId": 900644,
     "sourceId": 1527621,
     "sourceType": "datasetVersion"
    }
   ],
   "dockerImageVersionId": 31089,
   "isGpuEnabled": false,
   "isInternetEnabled": true,
   "language": "python",
   "sourceType": "notebook"
  },
  "kernelspec": {
   "display_name": "Python 3",
   "language": "python",
   "name": "python3"
  },
  "language_info": {
   "codemirror_mode": {
    "name": "ipython",
    "version": 3
   },
   "file_extension": ".py",
   "mimetype": "text/x-python",
   "name": "python",
   "nbconvert_exporter": "python",
   "pygments_lexer": "ipython3",
   "version": "3.11.13"
  }
 },
 "nbformat": 4,
 "nbformat_minor": 4
}

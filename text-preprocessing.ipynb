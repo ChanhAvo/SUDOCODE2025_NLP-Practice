{
 "cells": [
  {
   "cell_type": "code",
   "execution_count": 5,
   "metadata": {
    "execution": {
     "iopub.execute_input": "2025-09-11T17:26:30.100439Z",
     "iopub.status.busy": "2025-09-11T17:26:30.098637Z",
     "iopub.status.idle": "2025-09-11T17:26:49.109755Z",
     "shell.execute_reply": "2025-09-11T17:26:49.108361Z",
     "shell.execute_reply.started": "2025-09-11T17:26:30.100313Z"
    },
    "trusted": true
   },
   "outputs": [
    {
     "name": "stdout",
     "output_type": "stream",
     "text": [
      "Collecting underthesea\n",
      "  Downloading underthesea-6.8.4-py3-none-any.whl.metadata (15 kB)\n",
      "Requirement already satisfied: Click>=6.0 in /usr/local/lib/python3.11/dist-packages (from underthesea) (8.2.1)\n",
      "Collecting python-crfsuite>=0.9.6 (from underthesea)\n",
      "  Downloading python_crfsuite-0.9.11-cp311-cp311-manylinux_2_17_x86_64.manylinux2014_x86_64.whl.metadata (4.3 kB)\n",
      "Requirement already satisfied: nltk in /usr/local/lib/python3.11/dist-packages (from underthesea) (3.9.1)\n",
      "Requirement already satisfied: tqdm in /usr/local/lib/python3.11/dist-packages (from underthesea) (4.67.1)\n",
      "Requirement already satisfied: requests in /usr/local/lib/python3.11/dist-packages (from underthesea) (2.32.4)\n",
      "Requirement already satisfied: joblib in /usr/local/lib/python3.11/dist-packages (from underthesea) (1.5.1)\n",
      "Requirement already satisfied: scikit-learn in /usr/local/lib/python3.11/dist-packages (from underthesea) (1.2.2)\n",
      "Requirement already satisfied: PyYAML in /usr/local/lib/python3.11/dist-packages (from underthesea) (6.0.2)\n",
      "Collecting underthesea-core==1.0.4 (from underthesea)\n",
      "  Downloading underthesea_core-1.0.4-cp311-cp311-manylinux2010_x86_64.whl.metadata (1.7 kB)\n",
      "Requirement already satisfied: regex>=2021.8.3 in /usr/local/lib/python3.11/dist-packages (from nltk->underthesea) (2024.11.6)\n",
      "Requirement already satisfied: charset_normalizer<4,>=2 in /usr/local/lib/python3.11/dist-packages (from requests->underthesea) (3.4.2)\n",
      "Requirement already satisfied: idna<4,>=2.5 in /usr/local/lib/python3.11/dist-packages (from requests->underthesea) (3.10)\n",
      "Requirement already satisfied: urllib3<3,>=1.21.1 in /usr/local/lib/python3.11/dist-packages (from requests->underthesea) (2.5.0)\n",
      "Requirement already satisfied: certifi>=2017.4.17 in /usr/local/lib/python3.11/dist-packages (from requests->underthesea) (2025.6.15)\n",
      "Requirement already satisfied: numpy>=1.17.3 in /usr/local/lib/python3.11/dist-packages (from scikit-learn->underthesea) (1.26.4)\n",
      "Requirement already satisfied: scipy>=1.3.2 in /usr/local/lib/python3.11/dist-packages (from scikit-learn->underthesea) (1.15.3)\n",
      "Requirement already satisfied: threadpoolctl>=2.0.0 in /usr/local/lib/python3.11/dist-packages (from scikit-learn->underthesea) (3.6.0)\n",
      "Requirement already satisfied: mkl_fft in /usr/local/lib/python3.11/dist-packages (from numpy>=1.17.3->scikit-learn->underthesea) (1.3.8)\n",
      "Requirement already satisfied: mkl_random in /usr/local/lib/python3.11/dist-packages (from numpy>=1.17.3->scikit-learn->underthesea) (1.2.4)\n",
      "Requirement already satisfied: mkl_umath in /usr/local/lib/python3.11/dist-packages (from numpy>=1.17.3->scikit-learn->underthesea) (0.1.1)\n",
      "Requirement already satisfied: mkl in /usr/local/lib/python3.11/dist-packages (from numpy>=1.17.3->scikit-learn->underthesea) (2025.2.0)\n",
      "Requirement already satisfied: tbb4py in /usr/local/lib/python3.11/dist-packages (from numpy>=1.17.3->scikit-learn->underthesea) (2022.2.0)\n",
      "Requirement already satisfied: mkl-service in /usr/local/lib/python3.11/dist-packages (from numpy>=1.17.3->scikit-learn->underthesea) (2.4.1)\n",
      "Requirement already satisfied: intel-openmp<2026,>=2024 in /usr/local/lib/python3.11/dist-packages (from mkl->numpy>=1.17.3->scikit-learn->underthesea) (2024.2.0)\n",
      "Requirement already satisfied: tbb==2022.* in /usr/local/lib/python3.11/dist-packages (from mkl->numpy>=1.17.3->scikit-learn->underthesea) (2022.2.0)\n",
      "Requirement already satisfied: tcmlib==1.* in /usr/local/lib/python3.11/dist-packages (from tbb==2022.*->mkl->numpy>=1.17.3->scikit-learn->underthesea) (1.4.0)\n",
      "Requirement already satisfied: intel-cmplr-lib-rt in /usr/local/lib/python3.11/dist-packages (from mkl_umath->numpy>=1.17.3->scikit-learn->underthesea) (2024.2.0)\n",
      "Requirement already satisfied: intel-cmplr-lib-ur==2024.2.0 in /usr/local/lib/python3.11/dist-packages (from intel-openmp<2026,>=2024->mkl->numpy>=1.17.3->scikit-learn->underthesea) (2024.2.0)\n",
      "Downloading underthesea-6.8.4-py3-none-any.whl (20.9 MB)\n",
      "\u001b[2K   \u001b[90m━━━━━━━━━━━━━━━━━━━━━━━━━━━━━━━━━━━━━━━━\u001b[0m \u001b[32m20.9/20.9 MB\u001b[0m \u001b[31m32.9 MB/s\u001b[0m eta \u001b[36m0:00:00\u001b[0m00:01\u001b[0m00:01\u001b[0mm\n",
      "\u001b[?25hDownloading underthesea_core-1.0.4-cp311-cp311-manylinux2010_x86_64.whl (657 kB)\n",
      "\u001b[2K   \u001b[90m━━━━━━━━━━━━━━━━━━━━━━━━━━━━━━━━━━━━━━━━\u001b[0m \u001b[32m657.8/657.8 kB\u001b[0m \u001b[31m22.6 MB/s\u001b[0m eta \u001b[36m0:00:00\u001b[0m\n",
      "\u001b[?25hDownloading python_crfsuite-0.9.11-cp311-cp311-manylinux_2_17_x86_64.manylinux2014_x86_64.whl (1.3 MB)\n",
      "\u001b[2K   \u001b[90m━━━━━━━━━━━━━━━━━━━━━━━━━━━━━━━━━━━━━━━━\u001b[0m \u001b[32m1.3/1.3 MB\u001b[0m \u001b[31m23.3 MB/s\u001b[0m eta \u001b[36m0:00:00\u001b[0m00:01\u001b[0m\n",
      "\u001b[?25hInstalling collected packages: underthesea-core, python-crfsuite, underthesea\n",
      "Successfully installed python-crfsuite-0.9.11 underthesea-6.8.4 underthesea-core-1.0.4\n",
      "Requirement already satisfied: nltk in /usr/local/lib/python3.11/dist-packages (3.9.1)\n",
      "Requirement already satisfied: click in /usr/local/lib/python3.11/dist-packages (from nltk) (8.2.1)\n",
      "Requirement already satisfied: joblib in /usr/local/lib/python3.11/dist-packages (from nltk) (1.5.1)\n",
      "Requirement already satisfied: regex>=2021.8.3 in /usr/local/lib/python3.11/dist-packages (from nltk) (2024.11.6)\n",
      "Requirement already satisfied: tqdm in /usr/local/lib/python3.11/dist-packages (from nltk) (4.67.1)\n",
      "Collecting pyvi\n",
      "  Downloading pyvi-0.1.1-py2.py3-none-any.whl.metadata (2.5 kB)\n",
      "Requirement already satisfied: scikit-learn in /usr/local/lib/python3.11/dist-packages (from pyvi) (1.2.2)\n",
      "Collecting sklearn-crfsuite (from pyvi)\n",
      "  Downloading sklearn_crfsuite-0.5.0-py2.py3-none-any.whl.metadata (4.9 kB)\n",
      "Requirement already satisfied: numpy>=1.17.3 in /usr/local/lib/python3.11/dist-packages (from scikit-learn->pyvi) (1.26.4)\n",
      "Requirement already satisfied: scipy>=1.3.2 in /usr/local/lib/python3.11/dist-packages (from scikit-learn->pyvi) (1.15.3)\n",
      "Requirement already satisfied: joblib>=1.1.1 in /usr/local/lib/python3.11/dist-packages (from scikit-learn->pyvi) (1.5.1)\n",
      "Requirement already satisfied: threadpoolctl>=2.0.0 in /usr/local/lib/python3.11/dist-packages (from scikit-learn->pyvi) (3.6.0)\n",
      "Requirement already satisfied: python-crfsuite>=0.9.7 in /usr/local/lib/python3.11/dist-packages (from sklearn-crfsuite->pyvi) (0.9.11)\n",
      "Requirement already satisfied: tabulate>=0.4.2 in /usr/local/lib/python3.11/dist-packages (from sklearn-crfsuite->pyvi) (0.9.0)\n",
      "Requirement already satisfied: tqdm>=2.0 in /usr/local/lib/python3.11/dist-packages (from sklearn-crfsuite->pyvi) (4.67.1)\n",
      "Requirement already satisfied: mkl_fft in /usr/local/lib/python3.11/dist-packages (from numpy>=1.17.3->scikit-learn->pyvi) (1.3.8)\n",
      "Requirement already satisfied: mkl_random in /usr/local/lib/python3.11/dist-packages (from numpy>=1.17.3->scikit-learn->pyvi) (1.2.4)\n",
      "Requirement already satisfied: mkl_umath in /usr/local/lib/python3.11/dist-packages (from numpy>=1.17.3->scikit-learn->pyvi) (0.1.1)\n",
      "Requirement already satisfied: mkl in /usr/local/lib/python3.11/dist-packages (from numpy>=1.17.3->scikit-learn->pyvi) (2025.2.0)\n",
      "Requirement already satisfied: tbb4py in /usr/local/lib/python3.11/dist-packages (from numpy>=1.17.3->scikit-learn->pyvi) (2022.2.0)\n",
      "Requirement already satisfied: mkl-service in /usr/local/lib/python3.11/dist-packages (from numpy>=1.17.3->scikit-learn->pyvi) (2.4.1)\n",
      "Requirement already satisfied: intel-openmp<2026,>=2024 in /usr/local/lib/python3.11/dist-packages (from mkl->numpy>=1.17.3->scikit-learn->pyvi) (2024.2.0)\n",
      "Requirement already satisfied: tbb==2022.* in /usr/local/lib/python3.11/dist-packages (from mkl->numpy>=1.17.3->scikit-learn->pyvi) (2022.2.0)\n",
      "Requirement already satisfied: tcmlib==1.* in /usr/local/lib/python3.11/dist-packages (from tbb==2022.*->mkl->numpy>=1.17.3->scikit-learn->pyvi) (1.4.0)\n",
      "Requirement already satisfied: intel-cmplr-lib-rt in /usr/local/lib/python3.11/dist-packages (from mkl_umath->numpy>=1.17.3->scikit-learn->pyvi) (2024.2.0)\n",
      "Requirement already satisfied: intel-cmplr-lib-ur==2024.2.0 in /usr/local/lib/python3.11/dist-packages (from intel-openmp<2026,>=2024->mkl->numpy>=1.17.3->scikit-learn->pyvi) (2024.2.0)\n",
      "Downloading pyvi-0.1.1-py2.py3-none-any.whl (8.5 MB)\n",
      "\u001b[2K   \u001b[90m━━━━━━━━━━━━━━━━━━━━━━━━━━━━━━━━━━━━━━━━\u001b[0m \u001b[32m8.5/8.5 MB\u001b[0m \u001b[31m32.3 MB/s\u001b[0m eta \u001b[36m0:00:00\u001b[0m00:01\u001b[0m00:01\u001b[0m\n",
      "\u001b[?25hDownloading sklearn_crfsuite-0.5.0-py2.py3-none-any.whl (10 kB)\n",
      "Installing collected packages: sklearn-crfsuite, pyvi\n",
      "Successfully installed pyvi-0.1.1 sklearn-crfsuite-0.5.0\n"
     ]
    }
   ],
   "source": [
    "!pip install underthesea \n",
    "!pip install nltk \n",
    "!pip install pyvi"
   ]
  },
  {
   "cell_type": "code",
   "execution_count": 6,
   "metadata": {
    "execution": {
     "iopub.execute_input": "2025-09-11T17:29:32.055280Z",
     "iopub.status.busy": "2025-09-11T17:29:32.054870Z",
     "iopub.status.idle": "2025-09-11T17:29:44.460084Z",
     "shell.execute_reply": "2025-09-11T17:29:44.459074Z",
     "shell.execute_reply.started": "2025-09-11T17:29:32.055246Z"
    },
    "trusted": true
   },
   "outputs": [],
   "source": [
    "import nltk\n",
    "import pandas as pd\n",
    "import re\n",
    "import string\n",
    "import matplotlib.pyplot as plt\n",
    "from underthesea import word_tokenize"
   ]
  },
  {
   "cell_type": "code",
   "execution_count": 4,
   "metadata": {
    "execution": {
     "iopub.execute_input": "2025-09-11T13:22:31.386879Z",
     "iopub.status.busy": "2025-09-11T13:22:31.386440Z",
     "iopub.status.idle": "2025-09-11T13:22:31.843986Z",
     "shell.execute_reply": "2025-09-11T13:22:31.843144Z",
     "shell.execute_reply.started": "2025-09-11T13:22:31.386856Z"
    },
    "trusted": true
   },
   "outputs": [
    {
     "name": "stderr",
     "output_type": "stream",
     "text": [
      "[nltk_data] Downloading package punkt to /usr/share/nltk_data...\n",
      "[nltk_data]   Package punkt is already up-to-date!\n",
      "[nltk_data] Downloading package gutenberg to /usr/share/nltk_data...\n",
      "[nltk_data]   Package gutenberg is already up-to-date!\n",
      "[nltk_data] Downloading package wordnet to /usr/share/nltk_data...\n",
      "[nltk_data]   Package wordnet is already up-to-date!\n",
      "[nltk_data] Downloading package stopwords to /usr/share/nltk_data...\n",
      "[nltk_data]   Package stopwords is already up-to-date!\n",
      "[nltk_data] Downloading package omw-1.4 to /usr/share/nltk_data...\n",
      "[nltk_data] Downloading package punkt_tab to /usr/share/nltk_data...\n",
      "[nltk_data]   Package punkt_tab is already up-to-date!\n"
     ]
    },
    {
     "data": {
      "text/plain": [
       "True"
      ]
     },
     "execution_count": 4,
     "metadata": {},
     "output_type": "execute_result"
    }
   ],
   "source": [
    "nltk.download('punkt')\n",
    "nltk.download('gutenberg')\n",
    "nltk.download('wordnet')\n",
    "nltk.download('stopwords')\n",
    "nltk.download('omw-1.4')\n",
    "nltk.download('punkt_tab')"
   ]
  },
  {
   "cell_type": "code",
   "execution_count": 7,
   "metadata": {
    "execution": {
     "iopub.execute_input": "2025-09-11T17:31:16.497010Z",
     "iopub.status.busy": "2025-09-11T17:31:16.495911Z",
     "iopub.status.idle": "2025-09-11T17:31:37.333498Z",
     "shell.execute_reply": "2025-09-11T17:31:37.332308Z",
     "shell.execute_reply.started": "2025-09-11T17:31:16.496972Z"
    },
    "trusted": true
   },
   "outputs": [
    {
     "data": {
      "text/html": [
       "<div>\n",
       "<style scoped>\n",
       "    .dataframe tbody tr th:only-of-type {\n",
       "        vertical-align: middle;\n",
       "    }\n",
       "\n",
       "    .dataframe tbody tr th {\n",
       "        vertical-align: top;\n",
       "    }\n",
       "\n",
       "    .dataframe thead th {\n",
       "        text-align: right;\n",
       "    }\n",
       "</style>\n",
       "<table border=\"1\" class=\"dataframe\">\n",
       "  <thead>\n",
       "    <tr style=\"text-align: right;\">\n",
       "      <th></th>\n",
       "      <th>id</th>\n",
       "      <th>author</th>\n",
       "      <th>content</th>\n",
       "      <th>picture_count</th>\n",
       "      <th>processed</th>\n",
       "      <th>source</th>\n",
       "      <th>title</th>\n",
       "      <th>topic</th>\n",
       "      <th>url</th>\n",
       "      <th>crawled_at</th>\n",
       "    </tr>\n",
       "  </thead>\n",
       "  <tbody>\n",
       "    <tr>\n",
       "      <th>0</th>\n",
       "      <td>218270</td>\n",
       "      <td></td>\n",
       "      <td>Chiều 31/7, Công an tỉnh Thừa Thiên - Huế đã c...</td>\n",
       "      <td>3</td>\n",
       "      <td>0</td>\n",
       "      <td>docbao.vn</td>\n",
       "      <td>Tên cướp tiệm vàng tại Huế là đại uý công an, ...</td>\n",
       "      <td>Pháp luật</td>\n",
       "      <td>https://docbao.vn/phap-luat/ten-cuop-tiem-vang...</td>\n",
       "      <td>2022-08-01 09:09:22.817308</td>\n",
       "    </tr>\n",
       "    <tr>\n",
       "      <th>1</th>\n",
       "      <td>218269</td>\n",
       "      <td>(Nguồn: Sina)</td>\n",
       "      <td>Gần đây, Thứ trưởng Bộ Phát triển Kỹ thuật số,...</td>\n",
       "      <td>1</td>\n",
       "      <td>0</td>\n",
       "      <td>vtc.vn</td>\n",
       "      <td>Bỏ qua mạng 5G, Nga tiến thẳng từ 4G lên 6G</td>\n",
       "      <td>Sống kết nối</td>\n",
       "      <td>https://vtc.vn/bo-qua-mang-5g-nga-tien-thang-t...</td>\n",
       "      <td>2022-08-01 09:09:21.181469</td>\n",
       "    </tr>\n",
       "    <tr>\n",
       "      <th>2</th>\n",
       "      <td>218268</td>\n",
       "      <td>Hồ Sỹ Anh</td>\n",
       "      <td>Kết quả thi tốt nghiệp THPT năm 2022 cho thấy ...</td>\n",
       "      <td>3</td>\n",
       "      <td>0</td>\n",
       "      <td>thanhnien.vn</td>\n",
       "      <td>Địa phương nào đứng đầu cả nước tổng điểm 3 mô...</td>\n",
       "      <td>Giáo dục</td>\n",
       "      <td>https://thanhnien.vn/dia-phuong-nao-dung-dau-c...</td>\n",
       "      <td>2022-08-01 09:09:15.311901</td>\n",
       "    </tr>\n",
       "    <tr>\n",
       "      <th>3</th>\n",
       "      <td>218267</td>\n",
       "      <td>Ngọc Ánh</td>\n",
       "      <td>Thống đốc Kentucky Andy Beshear hôm 31/7 cho h...</td>\n",
       "      <td>1</td>\n",
       "      <td>0</td>\n",
       "      <td>vnexpress</td>\n",
       "      <td>Người chết trong mưa lũ 'nghìn năm có một' ở M...</td>\n",
       "      <td>Thế giới</td>\n",
       "      <td>https://vnexpress.net/nguoi-chet-trong-mua-lu-...</td>\n",
       "      <td>2022-08-01 09:09:02.211498</td>\n",
       "    </tr>\n",
       "    <tr>\n",
       "      <th>4</th>\n",
       "      <td>218266</td>\n",
       "      <td>HẢI YẾN - MINH LÝ</td>\n",
       "      <td>Vụ tai nạn giao thông liên hoàn trên phố đi bộ...</td>\n",
       "      <td>12</td>\n",
       "      <td>0</td>\n",
       "      <td>soha</td>\n",
       "      <td>Hải Phòng: Hình ảnh xe \"điên\" gây tai nạn liên...</td>\n",
       "      <td>Thời sự - Xã hội</td>\n",
       "      <td>https://soha.vn/hai-phong-hinh-anh-xe-dien-gay...</td>\n",
       "      <td>2022-08-01 09:09:01.601170</td>\n",
       "    </tr>\n",
       "    <tr>\n",
       "      <th>...</th>\n",
       "      <td>...</td>\n",
       "      <td>...</td>\n",
       "      <td>...</td>\n",
       "      <td>...</td>\n",
       "      <td>...</td>\n",
       "      <td>...</td>\n",
       "      <td>...</td>\n",
       "      <td>...</td>\n",
       "      <td>...</td>\n",
       "      <td>...</td>\n",
       "    </tr>\n",
       "    <tr>\n",
       "      <th>184534</th>\n",
       "      <td>5</td>\n",
       "      <td>Quốc Thắng</td>\n",
       "      <td>Chiều 7/6, Khoa bị Công an quận Phú Nhuận phối...</td>\n",
       "      <td>2</td>\n",
       "      <td>1</td>\n",
       "      <td>vnexpress</td>\n",
       "      <td>Nghi can sát hại cha bị bắt</td>\n",
       "      <td>Pháp luật</td>\n",
       "      <td>https://vnexpress.net/nghi-can-sat-hai-cha-bi-...</td>\n",
       "      <td>2022-06-07 14:05:53.848085</td>\n",
       "    </tr>\n",
       "    <tr>\n",
       "      <th>184535</th>\n",
       "      <td>4</td>\n",
       "      <td>Thảo Mi</td>\n",
       "      <td>Ngày 7/6, phiên xử phúc thẩm ông Tất Thành Can...</td>\n",
       "      <td>2</td>\n",
       "      <td>1</td>\n",
       "      <td>vnexpress</td>\n",
       "      <td>Ông Tất Thành Cang được đề nghị giảm án</td>\n",
       "      <td>Pháp luật</td>\n",
       "      <td>https://vnexpress.net/ong-tat-thanh-cang-duoc-...</td>\n",
       "      <td>2022-06-07 14:05:53.482540</td>\n",
       "    </tr>\n",
       "    <tr>\n",
       "      <th>184536</th>\n",
       "      <td>3</td>\n",
       "      <td>Thanh Tâm</td>\n",
       "      <td>\"Các khu dân cư của thành phố Severodonetsk đã...</td>\n",
       "      <td>2</td>\n",
       "      <td>1</td>\n",
       "      <td>vnexpress</td>\n",
       "      <td>Nga tuyên bố 'giải phóng' hoàn toàn khu dân cư...</td>\n",
       "      <td>Thế giới</td>\n",
       "      <td>https://vnexpress.net/nga-tuyen-bo-giai-phong-...</td>\n",
       "      <td>2022-06-07 14:05:51.797545</td>\n",
       "    </tr>\n",
       "    <tr>\n",
       "      <th>184537</th>\n",
       "      <td>2</td>\n",
       "      <td>Lâm Thỏa</td>\n",
       "      <td>*Việt Nam - Malaysia: 20h thứ Tư 8/6, trên VnE...</td>\n",
       "      <td>2</td>\n",
       "      <td>1</td>\n",
       "      <td>vnexpress</td>\n",
       "      <td>HLV Malaysia dọa ngáng đường Việt Nam</td>\n",
       "      <td>Thể thao</td>\n",
       "      <td>https://vnexpress.net/hlv-malaysia-doa-ngang-d...</td>\n",
       "      <td>2022-06-07 14:05:51.433712</td>\n",
       "    </tr>\n",
       "    <tr>\n",
       "      <th>184538</th>\n",
       "      <td>1</td>\n",
       "      <td>Lang Minh</td>\n",
       "      <td>Tôi phải lập tức đưa qua nhà cô giáo Ngữ văn l...</td>\n",
       "      <td>0</td>\n",
       "      <td>1</td>\n",
       "      <td>vnexpress</td>\n",
       "      <td>Khi giáo dục thành đối đầu</td>\n",
       "      <td>Góc nhìn</td>\n",
       "      <td>https://vnexpress.net/khi-giao-duc-thanh-doi-d...</td>\n",
       "      <td>2022-06-07 14:05:50.904322</td>\n",
       "    </tr>\n",
       "  </tbody>\n",
       "</table>\n",
       "<p>184539 rows × 10 columns</p>\n",
       "</div>"
      ],
      "text/plain": [
       "            id             author  \\\n",
       "0       218270                      \n",
       "1       218269      (Nguồn: Sina)   \n",
       "2       218268          Hồ Sỹ Anh   \n",
       "3       218267           Ngọc Ánh   \n",
       "4       218266  HẢI YẾN - MINH LÝ   \n",
       "...        ...                ...   \n",
       "184534       5         Quốc Thắng   \n",
       "184535       4            Thảo Mi   \n",
       "184536       3          Thanh Tâm   \n",
       "184537       2           Lâm Thỏa   \n",
       "184538       1          Lang Minh   \n",
       "\n",
       "                                                  content  picture_count  \\\n",
       "0       Chiều 31/7, Công an tỉnh Thừa Thiên - Huế đã c...              3   \n",
       "1       Gần đây, Thứ trưởng Bộ Phát triển Kỹ thuật số,...              1   \n",
       "2       Kết quả thi tốt nghiệp THPT năm 2022 cho thấy ...              3   \n",
       "3       Thống đốc Kentucky Andy Beshear hôm 31/7 cho h...              1   \n",
       "4       Vụ tai nạn giao thông liên hoàn trên phố đi bộ...             12   \n",
       "...                                                   ...            ...   \n",
       "184534  Chiều 7/6, Khoa bị Công an quận Phú Nhuận phối...              2   \n",
       "184535  Ngày 7/6, phiên xử phúc thẩm ông Tất Thành Can...              2   \n",
       "184536  \"Các khu dân cư của thành phố Severodonetsk đã...              2   \n",
       "184537  *Việt Nam - Malaysia: 20h thứ Tư 8/6, trên VnE...              2   \n",
       "184538  Tôi phải lập tức đưa qua nhà cô giáo Ngữ văn l...              0   \n",
       "\n",
       "        processed        source  \\\n",
       "0               0     docbao.vn   \n",
       "1               0        vtc.vn   \n",
       "2               0  thanhnien.vn   \n",
       "3               0     vnexpress   \n",
       "4               0          soha   \n",
       "...           ...           ...   \n",
       "184534          1     vnexpress   \n",
       "184535          1     vnexpress   \n",
       "184536          1     vnexpress   \n",
       "184537          1     vnexpress   \n",
       "184538          1     vnexpress   \n",
       "\n",
       "                                                    title             topic  \\\n",
       "0       Tên cướp tiệm vàng tại Huế là đại uý công an, ...         Pháp luật   \n",
       "1             Bỏ qua mạng 5G, Nga tiến thẳng từ 4G lên 6G      Sống kết nối   \n",
       "2       Địa phương nào đứng đầu cả nước tổng điểm 3 mô...          Giáo dục   \n",
       "3       Người chết trong mưa lũ 'nghìn năm có một' ở M...          Thế giới   \n",
       "4       Hải Phòng: Hình ảnh xe \"điên\" gây tai nạn liên...  Thời sự - Xã hội   \n",
       "...                                                   ...               ...   \n",
       "184534                        Nghi can sát hại cha bị bắt         Pháp luật   \n",
       "184535            Ông Tất Thành Cang được đề nghị giảm án         Pháp luật   \n",
       "184536  Nga tuyên bố 'giải phóng' hoàn toàn khu dân cư...          Thế giới   \n",
       "184537              HLV Malaysia dọa ngáng đường Việt Nam          Thể thao   \n",
       "184538                         Khi giáo dục thành đối đầu          Góc nhìn   \n",
       "\n",
       "                                                      url  \\\n",
       "0       https://docbao.vn/phap-luat/ten-cuop-tiem-vang...   \n",
       "1       https://vtc.vn/bo-qua-mang-5g-nga-tien-thang-t...   \n",
       "2       https://thanhnien.vn/dia-phuong-nao-dung-dau-c...   \n",
       "3       https://vnexpress.net/nguoi-chet-trong-mua-lu-...   \n",
       "4       https://soha.vn/hai-phong-hinh-anh-xe-dien-gay...   \n",
       "...                                                   ...   \n",
       "184534  https://vnexpress.net/nghi-can-sat-hai-cha-bi-...   \n",
       "184535  https://vnexpress.net/ong-tat-thanh-cang-duoc-...   \n",
       "184536  https://vnexpress.net/nga-tuyen-bo-giai-phong-...   \n",
       "184537  https://vnexpress.net/hlv-malaysia-doa-ngang-d...   \n",
       "184538  https://vnexpress.net/khi-giao-duc-thanh-doi-d...   \n",
       "\n",
       "                       crawled_at  \n",
       "0      2022-08-01 09:09:22.817308  \n",
       "1      2022-08-01 09:09:21.181469  \n",
       "2      2022-08-01 09:09:15.311901  \n",
       "3      2022-08-01 09:09:02.211498  \n",
       "4      2022-08-01 09:09:01.601170  \n",
       "...                           ...  \n",
       "184534 2022-06-07 14:05:53.848085  \n",
       "184535 2022-06-07 14:05:53.482540  \n",
       "184536 2022-06-07 14:05:51.797545  \n",
       "184537 2022-06-07 14:05:51.433712  \n",
       "184538 2022-06-07 14:05:50.904322  \n",
       "\n",
       "[184539 rows x 10 columns]"
      ]
     },
     "execution_count": 7,
     "metadata": {},
     "output_type": "execute_result"
    }
   ],
   "source": [
    "data = '/kaggle/input/vietnamese-online-news-dataset/news_dataset.json'\n",
    "df = pd.read_json(data)\n",
    "df"
   ]
  },
  {
   "cell_type": "code",
   "execution_count": 8,
   "metadata": {
    "execution": {
     "iopub.execute_input": "2025-09-11T17:31:53.697561Z",
     "iopub.status.busy": "2025-09-11T17:31:53.697181Z",
     "iopub.status.idle": "2025-09-11T17:31:53.837952Z",
     "shell.execute_reply": "2025-09-11T17:31:53.836912Z",
     "shell.execute_reply.started": "2025-09-11T17:31:53.697533Z"
    },
    "trusted": true
   },
   "outputs": [
    {
     "name": "stdout",
     "output_type": "stream",
     "text": [
      "<class 'pandas.core.frame.DataFrame'>\n",
      "RangeIndex: 184539 entries, 0 to 184538\n",
      "Data columns (total 10 columns):\n",
      " #   Column         Non-Null Count   Dtype         \n",
      "---  ------         --------------   -----         \n",
      " 0   id             184539 non-null  int64         \n",
      " 1   author         184539 non-null  object        \n",
      " 2   content        184539 non-null  object        \n",
      " 3   picture_count  184539 non-null  int64         \n",
      " 4   processed      184539 non-null  int64         \n",
      " 5   source         184534 non-null  object        \n",
      " 6   title          184539 non-null  object        \n",
      " 7   topic          184539 non-null  object        \n",
      " 8   url            184539 non-null  object        \n",
      " 9   crawled_at     184125 non-null  datetime64[ns]\n",
      "dtypes: datetime64[ns](1), int64(3), object(6)\n",
      "memory usage: 14.1+ MB\n"
     ]
    }
   ],
   "source": [
    "df.info()"
   ]
  },
  {
   "cell_type": "markdown",
   "metadata": {},
   "source": [
    "All the preprocessing steps in this notebook will be applied for the content column"
   ]
  },
  {
   "cell_type": "code",
   "execution_count": 9,
   "metadata": {
    "execution": {
     "iopub.execute_input": "2025-09-11T17:32:38.322550Z",
     "iopub.status.busy": "2025-09-11T17:32:38.322169Z",
     "iopub.status.idle": "2025-09-11T17:32:38.332043Z",
     "shell.execute_reply": "2025-09-11T17:32:38.330321Z",
     "shell.execute_reply.started": "2025-09-11T17:32:38.322520Z"
    },
    "trusted": true
   },
   "outputs": [
    {
     "data": {
      "text/plain": [
       "0         Chiều 31/7, Công an tỉnh Thừa Thiên - Huế đã c...\n",
       "1         Gần đây, Thứ trưởng Bộ Phát triển Kỹ thuật số,...\n",
       "2         Kết quả thi tốt nghiệp THPT năm 2022 cho thấy ...\n",
       "3         Thống đốc Kentucky Andy Beshear hôm 31/7 cho h...\n",
       "4         Vụ tai nạn giao thông liên hoàn trên phố đi bộ...\n",
       "                                ...                        \n",
       "184534    Chiều 7/6, Khoa bị Công an quận Phú Nhuận phối...\n",
       "184535    Ngày 7/6, phiên xử phúc thẩm ông Tất Thành Can...\n",
       "184536    \"Các khu dân cư của thành phố Severodonetsk đã...\n",
       "184537    *Việt Nam - Malaysia: 20h thứ Tư 8/6, trên VnE...\n",
       "184538    Tôi phải lập tức đưa qua nhà cô giáo Ngữ văn l...\n",
       "Name: content, Length: 184539, dtype: object"
      ]
     },
     "execution_count": 9,
     "metadata": {},
     "output_type": "execute_result"
    }
   ],
   "source": [
    "text = df['content']\n",
    "text"
   ]
  },
  {
   "cell_type": "code",
   "execution_count": 10,
   "metadata": {
    "execution": {
     "iopub.execute_input": "2025-09-11T17:32:56.033356Z",
     "iopub.status.busy": "2025-09-11T17:32:56.033011Z",
     "iopub.status.idle": "2025-09-11T17:33:19.067246Z",
     "shell.execute_reply": "2025-09-11T17:33:19.066157Z",
     "shell.execute_reply.started": "2025-09-11T17:32:56.033334Z"
    },
    "trusted": true
   },
   "outputs": [
    {
     "data": {
      "image/png": "[encoded data removed]",
      "text/plain": [
       "<Figure size 1400x600 with 2 Axes>"
      ]
     },
     "metadata": {},
     "output_type": "display_data"
    }
   ],
   "source": [
    "def plot_text_statistics(df):\n",
    "    char_lengths = df.str.len()\n",
    "    word_counts = df.str.split().str.len()\n",
    "\n",
    "    fig, axes = plt.subplots(1, 2, figsize=(14,6))\n",
    "\n",
    "    # Character length histogram\n",
    "    axes[0].hist(char_lengths, bins=100, color=\"skyblue\", edgecolor=\"black\")\n",
    "    axes[0].set_title(\"Distribution of Character Lengths\")\n",
    "    axes[0].set_xlabel(\"Characters\")\n",
    "    axes[0].set_ylabel(\"Frequency\")\n",
    "\n",
    "    # Word count histogram\n",
    "    axes[1].hist(word_counts, bins=100, color=\"lightgreen\", edgecolor=\"black\")\n",
    "    axes[1].set_title(\"Distribution of Word Counts\")\n",
    "    axes[1].set_xlabel(\"Words\")\n",
    "    axes[1].set_ylabel(\"Frequency\")\n",
    "\n",
    "    plt.tight_layout()\n",
    "    plt.show()\n",
    "\n",
    "\n",
    "plot_text_statistics(text)"
   ]
  },
  {
   "cell_type": "code",
   "execution_count": 11,
   "metadata": {
    "execution": {
     "iopub.execute_input": "2025-09-11T17:34:46.061262Z",
     "iopub.status.busy": "2025-09-11T17:34:46.060830Z",
     "iopub.status.idle": "2025-09-11T17:34:55.378714Z",
     "shell.execute_reply": "2025-09-11T17:34:55.377562Z",
     "shell.execute_reply.started": "2025-09-11T17:34:46.061237Z"
    },
    "trusted": true
   },
   "outputs": [
    {
     "name": "stdout",
     "output_type": "stream",
     "text": [
      "Average word count per row: 516.717940381166\n"
     ]
    }
   ],
   "source": [
    "word_counts = text.apply(lambda x: len(str(x).split()))\n",
    "# Average word count\n",
    "avg = word_counts.mean()\n",
    "print(\"Average word count per row:\", avg)"
   ]
  },
  {
   "cell_type": "markdown",
   "metadata": {},
   "source": [
    "The dataset is highly skewed, the majority of them have an average of 516 words per row. "
   ]
  },
  {
   "cell_type": "code",
   "execution_count": 12,
   "metadata": {
    "execution": {
     "iopub.execute_input": "2025-09-11T17:35:12.399696Z",
     "iopub.status.busy": "2025-09-11T17:35:12.399291Z",
     "iopub.status.idle": "2025-09-11T17:35:13.088409Z",
     "shell.execute_reply": "2025-09-11T17:35:13.087173Z",
     "shell.execute_reply.started": "2025-09-11T17:35:12.399672Z"
    },
    "trusted": true
   },
   "outputs": [
    {
     "name": "stdout",
     "output_type": "stream",
     "text": [
      "Row 37:  //<![CDATA[ window.addEventListener(\"load\", function(){if(document.getElementById(\"left\") && document.getElementById(\"left\").offsetWidth < 760){$(\"#upload_chum_anh_1659255744\").justifiedGallery({rowHeight: 299,lastRow: \"justify\",margins: 3,captions:false});window[\"myLazyLoad\"].update();}else{$(\"#upload_chum_anh_1659255744\").justifiedGallery({rowHeight: 324,lastRow: \"justify\",margins: 3,captions:false});window[\"myLazyLoad\"].update();}}); //]]> Á hậu Phương Anh, hoa hậu Tiểu Vy trong trang phục váy cưới. Top 37 Miss World Vietnam 2022 đã cùng trình diễn 2 BST với hai màu sắc đối lập của NTK Lê Thanh Hòa và NTK Đỗ Long tại Vietnam Beauty Fashion Fest. Mặc điều kiện thời tiết khó khăn, các thí sinh vẫn thể hiện sự chuyên nghiệp và hoàn thành phần catwalk trên sàn runway dài 300m. Nối tiếp chuỗi sự kiện đậm chất mùa hè miền nhiệt đới trong khuôn khổ vòng Chung kết Miss World Vietnam 2022, show thời trang Vietnam Beauty Fashion Fest đã được diễn ra với rất nhiều những điều mới lạ dưới sự dàn dựng của Tổng đạo diễn Hoàng Nhật Nam. Cảm nhận được sự hòa quyện tuyệt vời giữa núi và biển tại vùng đất Quy Nhơn, đây là lý do dẫn đến quyết định tạo nên sàn runway dài 300m theo dọc bờ biển của đạo diễn Hoàng Nhật Nam. Nhờ đó, khán giả không chỉ có thể theo dõi những thiết sáng tạo, những nhan sắc \"mê hồn\" mà còn có thể đồng cảm, hòa mình với thiên nhiên tươi đẹp nơi đây. Thêm vào đó, sàn runway 300m cũng tạo điều kiện để các cô gái của Miss World Vietnam 2022 được thể hiện thêm những kỹ năng của mình. Được biết, á hậu Phương Anh giữ vai trò first face của bộ sưu tập. Cô mặc mẫu váy cưới ngắn, mang phong cách hiện đại. Còn vedette là hoa hậu Trần Tiểu Vy diện thiết kế váy đuôi dài lộng lẫy.  Các thí sinh của Miss World Vietnam 2022 tự tin sải bước dù thời tiết không ủng hộ.  //<![CDATA[ window.addEventListener(\"load\", function(){if(document.getElementById(\"left\") && document.getElementById(\"left\").offsetWidth < 760){$(\"#upload_chum_anh_1659255869\").justifiedGallery({rowHeight: 491,lastRow: \"nojustify\",margins: 3,captions:false});window[\"myLazyLoad\"].update();}else{$(\"#upload_chum_anh_1659255869\").justifiedGallery({rowHeight: 531,lastRow: \"nojustify\",margins: 3,captions:false});window[\"myLazyLoad\"].update();}}); //]]> //<![CDATA[ window.addEventListener(\"load\", function(){if(document.getElementById(\"left\") && document.getElementById(\"left\").offsetWidth < 760){$(\"#upload_chum_anh_1659255813\").justifiedGallery({rowHeight: 491,lastRow: \"nojustify\",margins: 3,captions:false});window[\"myLazyLoad\"].update();}else{$(\"#upload_chum_anh_1659255813\").justifiedGallery({rowHeight: 531,lastRow: \"nojustify\",margins: 3,captions:false});window[\"myLazyLoad\"].update();}}); //]]> Những thiết kế váy cưới từ BST \"Love No.2\" được đánh giá về mặt kỹ thuật lẫn sáng tạo. Lấy cảm hứng từ trái tim và hoa hồng - hai biểu tượng của tình yêu - Lê Thanh Hòa và ekip đã khéo léo áp dụng những kỹ thuật độc đáo để gợi tả bằng ngôn ngữ thời trang. Dù sử dụng tone màu trắng xuyên suốt nhưng Lê Thanh Hòa đã biến tấu vô vàn sắc thái, từ màu trắng tinh khiết (pure white), đến màu trắng kem (cream white), màu trắng đục (off white), màu trắng ngà (ivory white). Chất liệu chủ đạo được sử dụng xuyên suốt các thiết kế đều là các dòng vải cao cấp như phi Italia, taffeta, organza, chiffon và tơ sống. Để sử dụng những chất liệu này đòi hỏi rất cao về kỹ thuật của nhà thiết kế và người thợ thủ công, vì đây đều là những chất liệu vô cùng phức tạp và kén người mặc, dễ co rút, nhăn nhúm khi chạy đường may. Bộ sưu tập gây ấn tượng với những chiếc váy với hàng trăm mảnh trái tim tận dụng được cắt ráp tỉ mỉ và đường khâu cuộn vải tỉ mỉ. Phom dáng chủ đạo của bộ sưu tập đi từ những nhẹ nhàng, thanh lịch, có tính ứng dụng cao đến những thiết kế ngọt ngào, đầy mơ mộng ở phần giữa và cuối cùng là những chiếc váy xòe phồng lộng lẫy. Bởi anh muốn các cô dâu thật sự hoàn hảo nhưng vẫn là chính mình, phom dáng cầu kỳ nhưng vẫn phải thoải mái di chuyển trong ngày trọng đại nhất cuộc đời. \"Tôi luôn muốn khắc họa một câu chuyện tình bằng thời trang, và không gì phù hợp hơn việc kể chuyện tình yêu bằng một bộ sưu tập váy cưới. Với 'LOVE No.2', mỗi phần của bộ sưu tập lại tượng trưng cho một cung bậc của tình yêu: có lúc nhẹ nhàng, e ấp, lúc đắm say, mãnh liệt và cuối cùng là sự thăng hoa, viên mãn trong ngày cưới\", Lê Thanh Hòa chia sẻ.  //<![CDATA[ window.addEventListener(\"load\", function(){if(document.getElementById(\"left\") && document.getElementById(\"left\").offsetWidth < 760){$(\"#upload_chum_anh_1659255931\").justifiedGallery({rowHeight: 491,lastRow: \"nojustify\",margins: 3,captions:false});window[\"myLazyLoad\"].update();}else{$(\"#upload_chum_anh_1659255931\").justifiedGallery({rowHeight: 531,lastRow: \"nojustify\",margins: 3,captions:false});window[\"myLazyLoad\"].update();}}); //]]> Đêm chung kết Miss World Vietnam 2022 diễn ra vào ngày 12.8 tại TP biển Quy Nhơn. Nguồn: https://arttimes.vn/giai-tri/thi-sinh-miss-world-viet-nam-2022-dien-thoi-trang-duoi-mua-c47a8466...Nguồn: https://arttimes.vn/giai-tri/thi-sinh-miss-world-viet-nam-2022-dien-thoi-trang-duoi-mua-c47a8466.html \n",
      "\n",
      "Row 849: //<![CDATA[ window.addEventListener(\"load\", function(){if(document.getElementById(\"left\") && document.getElementById(\"left\").offsetWidth < 760){$(\"#upload_chum_anh_1659230226\").justifiedGallery({rowHeight: 418,lastRow: \"nojustify\",margins: 3,captions:false});window[\"myLazyLoad\"].update();}else{$(\"#upload_chum_anh_1659230226\").justifiedGallery({rowHeight: 451,lastRow: \"nojustify\",margins: 3,captions:false});window[\"myLazyLoad\"].update();}}); //]]>  //<![CDATA[ window.addEventListener(\"load\", function(){if(document.getElementById(\"left\") && document.getElementById(\"left\").offsetWidth < 760){$(\"#upload_chum_anh_1659234747\").justifiedGallery({rowHeight: 418,lastRow: \"nojustify\",margins: 3,captions:false});window[\"myLazyLoad\"].update();}else{$(\"#upload_chum_anh_1659234747\").justifiedGallery({rowHeight: 451,lastRow: \"nojustify\",margins: 3,captions:false});window[\"myLazyLoad\"].update();}}); //]]> //<![CDATA[ window.addEventListener(\"load\", function(){if(document.getElementById(\"left\") && document.getElementById(\"left\").offsetWidth < 760){$(\"#upload_chum_anh_1659230258\").justifiedGallery({rowHeight: 406,lastRow: \"nojustify\",margins: 3,captions:false});window[\"myLazyLoad\"].update();}else{$(\"#upload_chum_anh_1659230258\").justifiedGallery({rowHeight: 439,lastRow: \"nojustify\",margins: 3,captions:false});window[\"myLazyLoad\"].update();}}); //]]> Hoa hậu Kỳ Duyên đăng tải hình ảnh mới trên trang cá nhân. Trên trang cá nhân, hoa hậu Việt Nam 2014 Nguyễn Cao Kỳ Duyên có đăng tải loạt ảnh mới. Cô hóm hỉnh chia sẻ: \"Gấu (biệt danh của Kỳ Duyên - PV) đi câu cá hay cá câu Gấu\". Người đẹp gây chú ý khi diện thiết kế áo tắm kết hợp màu đen và xanh lá cây nổi bật. Kỳ Duyên không quên đeo kính mắt và mũ cói để hoàn thiện set đồ. Cư dân mạng bình luận: \"Đẹp quá\", \"eo của chị chắc chỉ 56 cm thôi\", \"mê chị Duyên quá\",...  //<![CDATA[ window.addEventListener(\"load\", function(){if(document.getElementById(\"left\") && document.getElementById(\"left\").offsetWidth < 760){$(\"#upload_chum_anh_1659230289\").justifiedGallery({rowHeight: 418,lastRow: \"nojustify\",margins: 3,captions:false});window[\"myLazyLoad\"].update();}else{$(\"#upload_chum_anh_1659230289\").justifiedGallery({rowHeight: 451,lastRow: \"nojustify\",margins: 3,captions:false});window[\"myLazyLoad\"].update();}}); //]]> Bài đăng của của Kỳ Duyên nhận được gần 45 nghìn lượt thích. 8 năm sau đăng quang, Kỳ Duyên ngày càng chứng minh được sự ảnh hưởng của bản thân. Người đẹp được mời làm mentor, giám khảo tại nhiều cuộc thi. Ngoài ra, Kỳ Duyên cũng cho thấy hình ảnh bình dị của bản thân khi tham gia các chương trình thực tế. Bên cạnh đó, Kỳ Duyên ngày càng hoàn thiện về mặt hình ảnh. Người đẹp nỗ lực xây dựng vóc dáng cũng như thay đổi phong cách ăn mặc.  Kỳ Duyên từng không được đánh giá cao ở phong cách ăn mặc. //<![CDATA[ window.addEventListener(\"load\", function(){if(document.getElementById(\"left\") && document.getElementById(\"left\").offsetWidth < 760){$(\"#upload_chum_anh_1659230636\").justifiedGallery({rowHeight: 504,lastRow: \"nojustify\",margins: 3,captions:false});window[\"myLazyLoad\"].update();}else{$(\"#upload_chum_anh_1659230636\").justifiedGallery({rowHeight: 544,lastRow: \"nojustify\",margins: 3,captions:false});window[\"myLazyLoad\"].update();}}); //]]> Thời gian đầu, Kỳ Duyên từng phải nhận những bình luận chê bai chưa biết cách diện đồ nhưng hiện tại cô là một trong số những nàng hậu mặc đẹp của showbiz Việt. Kỳ Duyên không ngần ngại thử nghiệm bản thân với những phong cách khác nhau. Đó có thể là sự thoải mái với những item mang hơi hướng sporty-chic hay những chiếc đầm cut-out táo bạo... Cùng ngắm nhìn những lựa chọn trang phục của hoa hậu Kỳ Duyên:  Phong cách thời trang của hoa hậu Kỳ Duyên thay đổi rõ nét cùng với hành trình xây dựng vóc dáng của cô. Đây là lợi thế giúp người đẹp thoải mái thử nghiệm những item khác nhau.  Khi xuất hiện tại các sự kiện, Kỳ Duyên thường lựa chọn những chiếc đầm có thiết kế cut-out nổi bật hoặc dáng xẻ đùi duyên dáng.  Kể cả những khi diện đồ ở nhà, Kỳ Duyên cũng chọn cho mình những item ấn tượng. Chúng vừa thoải mái lại không kém phần thu hút.  Bên cạnh hình ảnh lộng lẫy trong trang phục dạ hội là một Kỳ Duyên năng động với áo phông, giày sneaker cùng chiếc mũ lưỡi trai.  Là người dành không ít thời gian ở phòng tập, Kỳ Duyên cũng chú ý đến trang phục tập gym. Ở đây, cô chọn bra thể thao kết hợp với gym short.  Nguồn: https://arttimes.vn/giai-tri/ky-duyen-dien-do-boi-di-cau-ca-thu-hut-van-luot-tuong-tac-c47a8448....Nguồn: https://arttimes.vn/giai-tri/ky-duyen-dien-do-boi-di-cau-ca-thu-hut-van-luot-tuong-tac-c47a8448.html \n",
      "\n",
      "Row 1327: Mới đây, trên trang cá nhân, Lý Hải đã chia sẻ khoảnh khắc đưa mẹ ruột đi du lịch xa dài ngày. Theo lời nam ca sĩ, mẹ anh năm nay 96 tuổi và đây cũng là chuyến đi chơi xa đầu tiên của bà. \"Gia đình là điều tuyệt vời nhất. Lên rừng xuống biển cùng má và cả nhà yêu thương\", Lý Hải bày tỏ. Sau chuyến lên rừng vào đầu tuần, gia đình Lý Hải đang có mặt tại một bãi biển Cam Ranh (Khánh Hòa). Đi cùng vợ chồng, con cái của giọng ca gốc Tiền Giang là các gia đình anh chị của anh. Có thể thấy, nam ca sĩ luôn tự tay chăm sóc mẹ, hỗ trợ việc di chuyển và trong từng bữa ăn.  //<![CDATA[ window.addEventListener(\"load\", function(){if(document.getElementById(\"left\") && document.getElementById(\"left\").offsetWidth < 760){$(\"#upload_chum_anh_1659233449\").justifiedGallery({rowHeight: 435,lastRow: \"justify\",margins: 3,captions:false});window[\"myLazyLoad\"].update();}else{$(\"#upload_chum_anh_1659233449\").justifiedGallery({rowHeight: 470,lastRow: \"justify\",margins: 3,captions:false});window[\"myLazyLoad\"].update();}}); //]]> Lý Hải luôn chăm sóc mẹ tận tình Bài viết của Lý Hải thu hút sự chú ý của đông đảo dân mạng. Đa số ý kiến khen ngợi sự hiếu thảo của vợ chồng Lý Hải Minh Hà. Bên cạnh đó cũng có một vài ý kiến lo lắng tuổi của mẹ Lý Hải đã cao, đi chơi xa thế này dễ ảnh hưởng đến sức khỏe. Có người lại cho rằng, Lý Hải Minh Hà giàu có nhưng đây mới là lần đầu tiên đưa mẹ đi chơi. \"Trời ơi! Con nổi tiếng từ lâu rồi mà bây giờ mới đưa mẹ đi biển. Thế mà cứ khoe hoài là sao nhỉ?\", một cư dân mạng bình luận. Trước ý kiến này, Lý Hải trả lời thẳng thắn: \"Ngày xưa khi má còn trẻ, gia đình không có điều kiện nên má đâu bao giờ được đi du lịch. Sau này, con cái lớn thì tuổi của má cũng cao và má bị say xe nên không dám đi xa. Chuyến này cả nhà đã bàn rất kỹ và cuối cùng đã đưa được má đi mấy trăm cây số. Vừa tới nơi là đúng lúc má mở mắt dậy, má cười tươi, nhìn cảnh bên ngoài má hỏi: \"Ủa đây là trong ti vi hả?\". Và đây là mùa hè đầu tiên mà cả nhà sum vầy với nhau ở một nơi không phải làm miền Tây\". Khi được một người hỏi về cách đưa người già đi xe không bị say, Minh Hà cho biết vợ chồng cô đã phải nhờ đến bác sĩ tư vấn vì mỗi người già tùy theo thể trạng sẽ có bệnh lý khác nhau nên không dám dùng thuốc và hướng dẫn bừa bãi. Có thể thấy, Lý Hải Minh Hà đã chuẩn bị rất kỹ mọi thứ. Trước khi đi, anh em nhà giọng ca 6X đã lên kế hoạch cụ thể để mẹ có được một chuyến du lịch xa nhà nhưng đầy ấm cúng bên con cháu. Điều này thể hiện rõ qua ánh mắt vui vẻ của cụ bà.  Trước đó, trên trang cá nhân, Lý Hải thường xuyên đưa gia đình nhỏ về Tiền Giang thăm mẹ, \"hâm nóng\" tình cảm gia đình Nguồn: https://nongthonviet.com.vn/ly-hai-dua-me-96-tuoi-len-rung-xuong-bien-gay-xuc-dong-phan-phao-khi...Nguồn: https://nongthonviet.com.vn/ly-hai-dua-me-96-tuoi-len-rung-xuong-bien-gay-xuc-dong-phan-phao-khi-bi-che-khoe-hoai-1382681.ngn \n",
      "\n"
     ]
    }
   ],
   "source": [
    "#Look for tag pattern\n",
    "def tag_pattern(text): \n",
    "    return bool(re.search(r\"<[^>]+>\", text))\n",
    "\n",
    "# Filter rows with tag pattern\n",
    "tags = text[text.apply(tag_pattern)]\n",
    "for i, row in tags.head(3).items(): \n",
    "    print(f\"Row {i}: {row}\\n\")"
   ]
  },
  {
   "cell_type": "markdown",
   "metadata": {},
   "source": [
    "Other than URLs, some rows have code embedded in. "
   ]
  },
  {
   "cell_type": "code",
   "execution_count": 13,
   "metadata": {
    "execution": {
     "iopub.execute_input": "2025-09-11T17:35:18.065381Z",
     "iopub.status.busy": "2025-09-11T17:35:18.065041Z",
     "iopub.status.idle": "2025-09-11T17:35:38.472305Z",
     "shell.execute_reply": "2025-09-11T17:35:38.471176Z",
     "shell.execute_reply.started": "2025-09-11T17:35:18.065357Z"
    },
    "trusted": true
   },
   "outputs": [
    {
     "name": "stdout",
     "output_type": "stream",
     "text": [
      "Rows with JavaScript-like code: 258\n"
     ]
    }
   ],
   "source": [
    "def has_javascript(text):\n",
    "    if text is None:\n",
    "        return False\n",
    "    text = str(text).lower()\n",
    "    return bool(re.search(r\"(//<!\\[cdata\\[.*?//\\]\\]>)|(//\\s*window\\.)\", text, flags=re.DOTALL))\n",
    "\n",
    "mask = text.apply(has_javascript)\n",
    "print(\"Rows with JavaScript-like code:\", mask.sum())"
   ]
  },
  {
   "cell_type": "markdown",
   "metadata": {},
   "source": [
    "**Text Preprocessing**"
   ]
  },
  {
   "cell_type": "code",
   "execution_count": 16,
   "metadata": {
    "execution": {
     "iopub.execute_input": "2025-09-11T17:36:03.840030Z",
     "iopub.status.busy": "2025-09-11T17:36:03.839767Z",
     "iopub.status.idle": "2025-09-11T17:36:10.122112Z",
     "shell.execute_reply": "2025-09-11T17:36:10.121135Z",
     "shell.execute_reply.started": "2025-09-11T17:36:03.840011Z"
    },
    "trusted": true
   },
   "outputs": [],
   "source": [
    "#Lowercase text\n",
    "text = text.str.lower()"
   ]
  },
  {
   "cell_type": "code",
   "execution_count": 17,
   "metadata": {
    "execution": {
     "iopub.execute_input": "2025-09-11T17:37:07.844085Z",
     "iopub.status.busy": "2025-09-11T17:37:07.843644Z",
     "iopub.status.idle": "2025-09-11T17:37:24.591434Z",
     "shell.execute_reply": "2025-09-11T17:37:24.589973Z",
     "shell.execute_reply.started": "2025-09-11T17:37:07.844055Z"
    },
    "trusted": true
   },
   "outputs": [],
   "source": [
    "#Remove external code\n",
    "text = text.apply(lambda x: re.sub(r\"(//<!\\[cdata\\[.*?//\\]\\]>)|(//\\s*window\\..*)\", \"\", str(x),flags=re.DOTALL | re.IGNORECASE))"
   ]
  },
  {
   "cell_type": "code",
   "execution_count": 18,
   "metadata": {
    "execution": {
     "iopub.execute_input": "2025-09-11T17:37:34.602505Z",
     "iopub.status.busy": "2025-09-11T17:37:34.602160Z",
     "iopub.status.idle": "2025-09-11T17:37:41.425319Z",
     "shell.execute_reply": "2025-09-11T17:37:41.424105Z",
     "shell.execute_reply.started": "2025-09-11T17:37:34.602481Z"
    },
    "trusted": true
   },
   "outputs": [],
   "source": [
    "#Remove url\n",
    "text = text.apply(lambda x: re.sub(r\"http\\S+|https\\S+|www\\S+\", \"\", str(x)))"
   ]
  },
  {
   "cell_type": "code",
   "execution_count": 19,
   "metadata": {
    "execution": {
     "iopub.execute_input": "2025-09-11T17:38:27.941883Z",
     "iopub.status.busy": "2025-09-11T17:38:27.941409Z",
     "iopub.status.idle": "2025-09-11T17:39:10.151113Z",
     "shell.execute_reply": "2025-09-11T17:39:10.149788Z",
     "shell.execute_reply.started": "2025-09-11T17:38:27.941848Z"
    },
    "trusted": true
   },
   "outputs": [],
   "source": [
    "#Remove punctuation\n",
    "text = text.str.translate(str.maketrans('', '', string.punctuation))"
   ]
  },
  {
   "cell_type": "code",
   "execution_count": 20,
   "metadata": {
    "execution": {
     "iopub.execute_input": "2025-09-11T17:39:37.618341Z",
     "iopub.status.busy": "2025-09-11T17:39:37.618022Z",
     "iopub.status.idle": "2025-09-11T17:40:18.864270Z",
     "shell.execute_reply": "2025-09-11T17:40:18.863003Z",
     "shell.execute_reply.started": "2025-09-11T17:39:37.618320Z"
    },
    "trusted": true
   },
   "outputs": [],
   "source": [
    "#Clean whitespace\n",
    "text = text.str.replace(r'\\s+', ' ', regex=True).str.strip()"
   ]
  },
  {
   "cell_type": "markdown",
   "metadata": {},
   "source": [
    "Since the dataset is huge which can cause the tokenization process takes hours long, I will split up to 1000 rows into a string and tokenize. "
   ]
  },
  {
   "cell_type": "code",
   "execution_count": 22,
   "metadata": {
    "execution": {
     "iopub.execute_input": "2025-09-11T17:54:10.938416Z",
     "iopub.status.busy": "2025-09-11T17:54:10.938082Z",
     "iopub.status.idle": "2025-09-11T17:54:10.952202Z",
     "shell.execute_reply": "2025-09-11T17:54:10.950776Z",
     "shell.execute_reply.started": "2025-09-11T17:54:10.938374Z"
    },
    "trusted": true
   },
   "outputs": [
    {
     "name": "stdout",
     "output_type": "stream",
     "text": [
      "Total characters in corpus: 2225182\n"
     ]
    }
   ],
   "source": [
    "#Take the first 1000 rows into a corpus \n",
    "rows = 1000\n",
    "corpus = text[:rows].str.cat(sep='.')  \n",
    "print(f\"Total characters in corpus: {len(corpus)}\")"
   ]
  },
  {
   "cell_type": "code",
   "execution_count": 23,
   "metadata": {
    "execution": {
     "iopub.execute_input": "2025-09-11T17:54:32.512514Z",
     "iopub.status.busy": "2025-09-11T17:54:32.512144Z",
     "iopub.status.idle": "2025-09-11T17:55:11.936080Z",
     "shell.execute_reply": "2025-09-11T17:55:11.934896Z",
     "shell.execute_reply.started": "2025-09-11T17:54:32.512488Z"
    },
    "trusted": true
   },
   "outputs": [],
   "source": [
    "#Tokenize the corpus\n",
    "tokens = word_tokenize(corpus, format='list')"
   ]
  },
  {
   "cell_type": "code",
   "execution_count": 29,
   "metadata": {
    "execution": {
     "iopub.execute_input": "2025-09-11T18:04:33.668965Z",
     "iopub.status.busy": "2025-09-11T18:04:33.668604Z",
     "iopub.status.idle": "2025-09-11T18:04:33.678157Z",
     "shell.execute_reply": "2025-09-11T18:04:33.676943Z",
     "shell.execute_reply.started": "2025-09-11T18:04:33.668926Z"
    },
    "trusted": true
   },
   "outputs": [
    {
     "name": "stdout",
     "output_type": "stream",
     "text": [
      "['a lô', 'a ha', 'ai', 'ai ai', 'ai nấy']\n"
     ]
    }
   ],
   "source": [
    "with open(\"/kaggle/input/stop-words-in-28-languages/vietnamese.txt\", \"r\", encoding=\"utf-8\") as f:\n",
    "    stopwords = [stopwords.strip() for stopwords in f]\n",
    "\n",
    "print(lines[:5])"
   ]
  },
  {
   "cell_type": "code",
   "execution_count": 34,
   "metadata": {
    "execution": {
     "iopub.execute_input": "2025-09-11T18:06:47.762749Z",
     "iopub.status.busy": "2025-09-11T18:06:47.762435Z",
     "iopub.status.idle": "2025-09-11T18:06:47.827490Z",
     "shell.execute_reply": "2025-09-11T18:06:47.826101Z",
     "shell.execute_reply.started": "2025-09-11T18:06:47.762728Z"
    },
    "trusted": true
   },
   "outputs": [],
   "source": [
    "#Remove stop words \n",
    "stopwords = set(stopwords)\n",
    "cleaned_corpus = [w for w in tokens if w not in stopwords]"
   ]
  },
  {
   "cell_type": "code",
   "execution_count": 38,
   "metadata": {
    "execution": {
     "iopub.execute_input": "2025-09-11T18:18:35.787190Z",
     "iopub.status.busy": "2025-09-11T18:18:35.786840Z",
     "iopub.status.idle": "2025-09-11T18:18:35.796084Z",
     "shell.execute_reply": "2025-09-11T18:18:35.794792Z",
     "shell.execute_reply.started": "2025-09-11T18:18:35.787167Z"
    },
    "trusted": true
   },
   "outputs": [
    {
     "data": {
      "text/plain": [
       "['chiều',\n",
       " '317',\n",
       " 'công an',\n",
       " 'tỉnh',\n",
       " 'thừa',\n",
       " 'thiên huế',\n",
       " 'thông tin',\n",
       " 'ban đầu',\n",
       " 'vụ',\n",
       " 'nổ']"
      ]
     },
     "execution_count": 38,
     "metadata": {},
     "output_type": "execute_result"
    }
   ],
   "source": [
    "cleaned_corpus[:10]"
   ]
  }
 ],
 "metadata": {
  "kaggle": {
   "accelerator": "none",
   "dataSources": [
    {
     "datasetId": 900644,
     "sourceId": 1527621,
     "sourceType": "datasetVersion"
    },
    {
     "datasetId": 2378920,
     "sourceId": 4013342,
     "sourceType": "datasetVersion"
    }
   ],
   "dockerImageVersionId": 31089,
   "isGpuEnabled": false,
   "isInternetEnabled": true,
   "language": "python",
   "sourceType": "notebook"
  },
  "kernelspec": {
   "display_name": "Python 3",
   "language": "python",
   "name": "python3"
  },
  "language_info": {
   "codemirror_mode": {
    "name": "ipython",
    "version": 3
   },
   "file_extension": ".py",
   "mimetype": "text/x-python",
   "name": "python",
   "nbconvert_exporter": "python",
   "pygments_lexer": "ipython3",
   "version": "3.11.13"
  }
 },
 "nbformat": 4,
 "nbformat_minor": 4
}
